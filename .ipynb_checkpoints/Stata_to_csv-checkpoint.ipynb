{
 "cells": [
  {
   "cell_type": "code",
   "execution_count": 1,
   "metadata": {},
   "outputs": [],
   "source": [
    "import pandas as pd\n",
    "\n",
    "# Filenames maintained for clarity; they can be renamed once we know the specifics on each \n",
    "HCMST_2017_public_data = pd.read_stata(\"Stata_files/HCMST_2017_public_data_v1.1_stata/HCMST_2017_public_data.dta\")\n",
    "HCMST_ver_3 = pd.read_stata(\"Stata_files/HCMST_ver_3.04_Stata/HCMST_ver_3.04.dta\")\n"
   ]
  },
  {
   "cell_type": "code",
   "execution_count": null,
   "metadata": {},
   "outputs": [],
   "source": [
    "HCMST_2017_public_data.to_csv('CSV_files/HCMST_2017_public_data.csv')\n",
    "HCMST_ver_3.to_csv('CSV_files/HCMST_ver_3.csv')\n"
   ]
  }
 ],
 "metadata": {
  "kernelspec": {
   "display_name": "Python 3",
   "language": "python",
   "name": "python3"
  },
  "language_info": {
   "codemirror_mode": {
    "name": "ipython",
    "version": 3
   },
   "file_extension": ".py",
   "mimetype": "text/x-python",
   "name": "python",
   "nbconvert_exporter": "python",
   "pygments_lexer": "ipython3",
   "version": "3.7.3"
  }
 },
 "nbformat": 4,
 "nbformat_minor": 2
}
