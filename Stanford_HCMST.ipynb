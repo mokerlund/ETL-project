{
 "cells": [
  {
   "cell_type": "code",
   "execution_count": 4,
   "metadata": {},
   "outputs": [],
   "source": [
    "import pandas as pd"
   ]
  },
  {
   "cell_type": "markdown",
   "metadata": {},
   "source": [
    "## Original and Wave 1-3"
   ]
  },
  {
   "cell_type": "code",
   "execution_count": 5,
   "metadata": {},
   "outputs": [
    {
     "ename": "FileNotFoundError",
     "evalue": "[Errno 2] No such file or directory: 'HCMST_ver_3.04.dta'",
     "output_type": "error",
     "traceback": [
      "\u001b[1;31m---------------------------------------------------------------------------\u001b[0m",
      "\u001b[1;31mFileNotFoundError\u001b[0m                         Traceback (most recent call last)",
      "\u001b[1;32m<ipython-input-5-96a6c9f8833d>\u001b[0m in \u001b[0;36m<module>\u001b[1;34m\u001b[0m\n\u001b[1;32m----> 1\u001b[1;33m \u001b[0mdf_wv1_3\u001b[0m\u001b[1;33m=\u001b[0m\u001b[0mpd\u001b[0m\u001b[1;33m.\u001b[0m\u001b[0mread_stata\u001b[0m\u001b[1;33m(\u001b[0m\u001b[1;34m\"HCMST_ver_3.04.dta\"\u001b[0m\u001b[1;33m)\u001b[0m\u001b[1;33m\u001b[0m\u001b[1;33m\u001b[0m\u001b[0m\n\u001b[0m\u001b[0;32m      2\u001b[0m \u001b[0mdf_wv1_3\u001b[0m\u001b[1;33m.\u001b[0m\u001b[0mhead\u001b[0m\u001b[1;33m(\u001b[0m\u001b[1;33m)\u001b[0m\u001b[1;33m\u001b[0m\u001b[1;33m\u001b[0m\u001b[0m\n",
      "\u001b[1;32m~\\AppData\\Local\\Continuum\\anaconda3\\lib\\site-packages\\pandas\\util\\_decorators.py\u001b[0m in \u001b[0;36mwrapper\u001b[1;34m(*args, **kwargs)\u001b[0m\n\u001b[0;32m    186\u001b[0m                 \u001b[1;32melse\u001b[0m\u001b[1;33m:\u001b[0m\u001b[1;33m\u001b[0m\u001b[1;33m\u001b[0m\u001b[0m\n\u001b[0;32m    187\u001b[0m                     \u001b[0mkwargs\u001b[0m\u001b[1;33m[\u001b[0m\u001b[0mnew_arg_name\u001b[0m\u001b[1;33m]\u001b[0m \u001b[1;33m=\u001b[0m \u001b[0mnew_arg_value\u001b[0m\u001b[1;33m\u001b[0m\u001b[1;33m\u001b[0m\u001b[0m\n\u001b[1;32m--> 188\u001b[1;33m             \u001b[1;32mreturn\u001b[0m \u001b[0mfunc\u001b[0m\u001b[1;33m(\u001b[0m\u001b[1;33m*\u001b[0m\u001b[0margs\u001b[0m\u001b[1;33m,\u001b[0m \u001b[1;33m**\u001b[0m\u001b[0mkwargs\u001b[0m\u001b[1;33m)\u001b[0m\u001b[1;33m\u001b[0m\u001b[1;33m\u001b[0m\u001b[0m\n\u001b[0m\u001b[0;32m    189\u001b[0m         \u001b[1;32mreturn\u001b[0m \u001b[0mwrapper\u001b[0m\u001b[1;33m\u001b[0m\u001b[1;33m\u001b[0m\u001b[0m\n\u001b[0;32m    190\u001b[0m     \u001b[1;32mreturn\u001b[0m \u001b[0m_deprecate_kwarg\u001b[0m\u001b[1;33m\u001b[0m\u001b[1;33m\u001b[0m\u001b[0m\n",
      "\u001b[1;32m~\\AppData\\Local\\Continuum\\anaconda3\\lib\\site-packages\\pandas\\util\\_decorators.py\u001b[0m in \u001b[0;36mwrapper\u001b[1;34m(*args, **kwargs)\u001b[0m\n\u001b[0;32m    186\u001b[0m                 \u001b[1;32melse\u001b[0m\u001b[1;33m:\u001b[0m\u001b[1;33m\u001b[0m\u001b[1;33m\u001b[0m\u001b[0m\n\u001b[0;32m    187\u001b[0m                     \u001b[0mkwargs\u001b[0m\u001b[1;33m[\u001b[0m\u001b[0mnew_arg_name\u001b[0m\u001b[1;33m]\u001b[0m \u001b[1;33m=\u001b[0m \u001b[0mnew_arg_value\u001b[0m\u001b[1;33m\u001b[0m\u001b[1;33m\u001b[0m\u001b[0m\n\u001b[1;32m--> 188\u001b[1;33m             \u001b[1;32mreturn\u001b[0m \u001b[0mfunc\u001b[0m\u001b[1;33m(\u001b[0m\u001b[1;33m*\u001b[0m\u001b[0margs\u001b[0m\u001b[1;33m,\u001b[0m \u001b[1;33m**\u001b[0m\u001b[0mkwargs\u001b[0m\u001b[1;33m)\u001b[0m\u001b[1;33m\u001b[0m\u001b[1;33m\u001b[0m\u001b[0m\n\u001b[0m\u001b[0;32m    189\u001b[0m         \u001b[1;32mreturn\u001b[0m \u001b[0mwrapper\u001b[0m\u001b[1;33m\u001b[0m\u001b[1;33m\u001b[0m\u001b[0m\n\u001b[0;32m    190\u001b[0m     \u001b[1;32mreturn\u001b[0m \u001b[0m_deprecate_kwarg\u001b[0m\u001b[1;33m\u001b[0m\u001b[1;33m\u001b[0m\u001b[0m\n",
      "\u001b[1;32m~\\AppData\\Local\\Continuum\\anaconda3\\lib\\site-packages\\pandas\\io\\stata.py\u001b[0m in \u001b[0;36mread_stata\u001b[1;34m(filepath_or_buffer, convert_dates, convert_categoricals, encoding, index_col, convert_missing, preserve_dtypes, columns, order_categoricals, chunksize, iterator)\u001b[0m\n\u001b[0;32m    184\u001b[0m                          \u001b[0mcolumns\u001b[0m\u001b[1;33m=\u001b[0m\u001b[0mcolumns\u001b[0m\u001b[1;33m,\u001b[0m\u001b[1;33m\u001b[0m\u001b[1;33m\u001b[0m\u001b[0m\n\u001b[0;32m    185\u001b[0m                          \u001b[0morder_categoricals\u001b[0m\u001b[1;33m=\u001b[0m\u001b[0morder_categoricals\u001b[0m\u001b[1;33m,\u001b[0m\u001b[1;33m\u001b[0m\u001b[1;33m\u001b[0m\u001b[0m\n\u001b[1;32m--> 186\u001b[1;33m                          chunksize=chunksize)\n\u001b[0m\u001b[0;32m    187\u001b[0m \u001b[1;33m\u001b[0m\u001b[0m\n\u001b[0;32m    188\u001b[0m     \u001b[1;32mif\u001b[0m \u001b[0miterator\u001b[0m \u001b[1;32mor\u001b[0m \u001b[0mchunksize\u001b[0m\u001b[1;33m:\u001b[0m\u001b[1;33m\u001b[0m\u001b[1;33m\u001b[0m\u001b[0m\n",
      "\u001b[1;32m~\\AppData\\Local\\Continuum\\anaconda3\\lib\\site-packages\\pandas\\util\\_decorators.py\u001b[0m in \u001b[0;36mwrapper\u001b[1;34m(*args, **kwargs)\u001b[0m\n\u001b[0;32m    186\u001b[0m                 \u001b[1;32melse\u001b[0m\u001b[1;33m:\u001b[0m\u001b[1;33m\u001b[0m\u001b[1;33m\u001b[0m\u001b[0m\n\u001b[0;32m    187\u001b[0m                     \u001b[0mkwargs\u001b[0m\u001b[1;33m[\u001b[0m\u001b[0mnew_arg_name\u001b[0m\u001b[1;33m]\u001b[0m \u001b[1;33m=\u001b[0m \u001b[0mnew_arg_value\u001b[0m\u001b[1;33m\u001b[0m\u001b[1;33m\u001b[0m\u001b[0m\n\u001b[1;32m--> 188\u001b[1;33m             \u001b[1;32mreturn\u001b[0m \u001b[0mfunc\u001b[0m\u001b[1;33m(\u001b[0m\u001b[1;33m*\u001b[0m\u001b[0margs\u001b[0m\u001b[1;33m,\u001b[0m \u001b[1;33m**\u001b[0m\u001b[0mkwargs\u001b[0m\u001b[1;33m)\u001b[0m\u001b[1;33m\u001b[0m\u001b[1;33m\u001b[0m\u001b[0m\n\u001b[0m\u001b[0;32m    189\u001b[0m         \u001b[1;32mreturn\u001b[0m \u001b[0mwrapper\u001b[0m\u001b[1;33m\u001b[0m\u001b[1;33m\u001b[0m\u001b[0m\n\u001b[0;32m    190\u001b[0m     \u001b[1;32mreturn\u001b[0m \u001b[0m_deprecate_kwarg\u001b[0m\u001b[1;33m\u001b[0m\u001b[1;33m\u001b[0m\u001b[0m\n",
      "\u001b[1;32m~\\AppData\\Local\\Continuum\\anaconda3\\lib\\site-packages\\pandas\\util\\_decorators.py\u001b[0m in \u001b[0;36mwrapper\u001b[1;34m(*args, **kwargs)\u001b[0m\n\u001b[0;32m    186\u001b[0m                 \u001b[1;32melse\u001b[0m\u001b[1;33m:\u001b[0m\u001b[1;33m\u001b[0m\u001b[1;33m\u001b[0m\u001b[0m\n\u001b[0;32m    187\u001b[0m                     \u001b[0mkwargs\u001b[0m\u001b[1;33m[\u001b[0m\u001b[0mnew_arg_name\u001b[0m\u001b[1;33m]\u001b[0m \u001b[1;33m=\u001b[0m \u001b[0mnew_arg_value\u001b[0m\u001b[1;33m\u001b[0m\u001b[1;33m\u001b[0m\u001b[0m\n\u001b[1;32m--> 188\u001b[1;33m             \u001b[1;32mreturn\u001b[0m \u001b[0mfunc\u001b[0m\u001b[1;33m(\u001b[0m\u001b[1;33m*\u001b[0m\u001b[0margs\u001b[0m\u001b[1;33m,\u001b[0m \u001b[1;33m**\u001b[0m\u001b[0mkwargs\u001b[0m\u001b[1;33m)\u001b[0m\u001b[1;33m\u001b[0m\u001b[1;33m\u001b[0m\u001b[0m\n\u001b[0m\u001b[0;32m    189\u001b[0m         \u001b[1;32mreturn\u001b[0m \u001b[0mwrapper\u001b[0m\u001b[1;33m\u001b[0m\u001b[1;33m\u001b[0m\u001b[0m\n\u001b[0;32m    190\u001b[0m     \u001b[1;32mreturn\u001b[0m \u001b[0m_deprecate_kwarg\u001b[0m\u001b[1;33m\u001b[0m\u001b[1;33m\u001b[0m\u001b[0m\n",
      "\u001b[1;32m~\\AppData\\Local\\Continuum\\anaconda3\\lib\\site-packages\\pandas\\io\\stata.py\u001b[0m in \u001b[0;36m__init__\u001b[1;34m(self, path_or_buf, convert_dates, convert_categoricals, index_col, convert_missing, preserve_dtypes, columns, order_categoricals, encoding, chunksize)\u001b[0m\n\u001b[0;32m    992\u001b[0m \u001b[1;33m\u001b[0m\u001b[0m\n\u001b[0;32m    993\u001b[0m         \u001b[1;32mif\u001b[0m \u001b[0misinstance\u001b[0m\u001b[1;33m(\u001b[0m\u001b[0mpath_or_buf\u001b[0m\u001b[1;33m,\u001b[0m \u001b[1;33m(\u001b[0m\u001b[0mstr\u001b[0m\u001b[1;33m,\u001b[0m \u001b[0mtext_type\u001b[0m\u001b[1;33m,\u001b[0m \u001b[0mbytes\u001b[0m\u001b[1;33m)\u001b[0m\u001b[1;33m)\u001b[0m\u001b[1;33m:\u001b[0m\u001b[1;33m\u001b[0m\u001b[1;33m\u001b[0m\u001b[0m\n\u001b[1;32m--> 994\u001b[1;33m             \u001b[0mself\u001b[0m\u001b[1;33m.\u001b[0m\u001b[0mpath_or_buf\u001b[0m \u001b[1;33m=\u001b[0m \u001b[0mopen\u001b[0m\u001b[1;33m(\u001b[0m\u001b[0mpath_or_buf\u001b[0m\u001b[1;33m,\u001b[0m \u001b[1;34m'rb'\u001b[0m\u001b[1;33m)\u001b[0m\u001b[1;33m\u001b[0m\u001b[1;33m\u001b[0m\u001b[0m\n\u001b[0m\u001b[0;32m    995\u001b[0m         \u001b[1;32melse\u001b[0m\u001b[1;33m:\u001b[0m\u001b[1;33m\u001b[0m\u001b[1;33m\u001b[0m\u001b[0m\n\u001b[0;32m    996\u001b[0m             \u001b[1;31m# Copy to BytesIO, and ensure no encoding\u001b[0m\u001b[1;33m\u001b[0m\u001b[1;33m\u001b[0m\u001b[1;33m\u001b[0m\u001b[0m\n",
      "\u001b[1;31mFileNotFoundError\u001b[0m: [Errno 2] No such file or directory: 'HCMST_ver_3.04.dta'"
     ]
    }
   ],
   "source": [
    "df_wv1_3=pd.read_stata(\"HCMST_ver_3.04.dta\")\n",
    "df_wv1_3.head()"
   ]
  },
  {
   "cell_type": "code",
   "execution_count": 28,
   "metadata": {},
   "outputs": [
    {
     "data": {
      "text/plain": [
       "(4002, 387)"
      ]
     },
     "execution_count": 28,
     "metadata": {},
     "output_type": "execute_result"
    }
   ],
   "source": [
    "df_wv1_3.shape"
   ]
  },
  {
   "cell_type": "code",
   "execution_count": 29,
   "metadata": {},
   "outputs": [],
   "source": [
    "columns = df_wv1_3.columns\n",
    "df=pd.DataFrame(columns)\n",
    "df.to_csv(\"wave_1_to_3_columns.csv\",index=False,header=False)"
   ]
  },
  {
   "cell_type": "markdown",
   "metadata": {},
   "source": [
    "## Wave 4"
   ]
  },
  {
   "cell_type": "code",
   "execution_count": 30,
   "metadata": {},
   "outputs": [
    {
     "data": {
      "text/html": [
       "<div>\n",
       "<style scoped>\n",
       "    .dataframe tbody tr th:only-of-type {\n",
       "        vertical-align: middle;\n",
       "    }\n",
       "\n",
       "    .dataframe tbody tr th {\n",
       "        vertical-align: top;\n",
       "    }\n",
       "\n",
       "    .dataframe thead th {\n",
       "        text-align: right;\n",
       "    }\n",
       "</style>\n",
       "<table border=\"1\" class=\"dataframe\">\n",
       "  <thead>\n",
       "    <tr style=\"text-align: right;\">\n",
       "      <th></th>\n",
       "      <th>caseid_new</th>\n",
       "      <th>w4_xqualified</th>\n",
       "      <th>w4_status</th>\n",
       "      <th>w4_complete</th>\n",
       "      <th>w4_source</th>\n",
       "      <th>w4_duration</th>\n",
       "      <th>w4_HCMST_interview_fin_yrmo</th>\n",
       "      <th>w4_xtype</th>\n",
       "      <th>w4_xyear</th>\n",
       "      <th>w4_xmonth</th>\n",
       "      <th>...</th>\n",
       "      <th>pp4_ppt25</th>\n",
       "      <th>pp4_ppt612</th>\n",
       "      <th>pp4_ppt1317</th>\n",
       "      <th>pp4_ppt18ov</th>\n",
       "      <th>pp4_ppwork</th>\n",
       "      <th>pp4_ppnet</th>\n",
       "      <th>pp4_ppcmdate_yrmo</th>\n",
       "      <th>pp4_newer</th>\n",
       "      <th>ppa2009_services_yrmo</th>\n",
       "      <th>ppa2009_how_often_services</th>\n",
       "    </tr>\n",
       "  </thead>\n",
       "  <tbody>\n",
       "    <tr>\n",
       "      <th>0</th>\n",
       "      <td>22526</td>\n",
       "      <td>qualified for wave 4</td>\n",
       "      <td>Active</td>\n",
       "      <td>Yes</td>\n",
       "      <td>On-line</td>\n",
       "      <td>3.0</td>\n",
       "      <td>201303.0</td>\n",
       "      <td>NaN</td>\n",
       "      <td>NaN</td>\n",
       "      <td>NaN</td>\n",
       "      <td>...</td>\n",
       "      <td>0</td>\n",
       "      <td>0</td>\n",
       "      <td>0</td>\n",
       "      <td>2</td>\n",
       "      <td>Not working - disabled</td>\n",
       "      <td>Yes</td>\n",
       "      <td>NaN</td>\n",
       "      <td>Yes</td>\n",
       "      <td>NaN</td>\n",
       "      <td>NaN</td>\n",
       "    </tr>\n",
       "    <tr>\n",
       "      <th>1</th>\n",
       "      <td>23286</td>\n",
       "      <td>qualified for wave 4</td>\n",
       "      <td>Active</td>\n",
       "      <td>Yes</td>\n",
       "      <td>On-line</td>\n",
       "      <td>0.0</td>\n",
       "      <td>201303.0</td>\n",
       "      <td>NaN</td>\n",
       "      <td>NaN</td>\n",
       "      <td>NaN</td>\n",
       "      <td>...</td>\n",
       "      <td>0</td>\n",
       "      <td>0</td>\n",
       "      <td>0</td>\n",
       "      <td>2</td>\n",
       "      <td>Working - as a paid employee</td>\n",
       "      <td>Yes</td>\n",
       "      <td>NaN</td>\n",
       "      <td>Yes</td>\n",
       "      <td>NaN</td>\n",
       "      <td>NaN</td>\n",
       "    </tr>\n",
       "    <tr>\n",
       "      <th>2</th>\n",
       "      <td>25495</td>\n",
       "      <td>unqualified for wave 4</td>\n",
       "      <td>NaN</td>\n",
       "      <td>NaN</td>\n",
       "      <td>NaN</td>\n",
       "      <td>NaN</td>\n",
       "      <td>NaN</td>\n",
       "      <td>NaN</td>\n",
       "      <td>NaN</td>\n",
       "      <td>NaN</td>\n",
       "      <td>...</td>\n",
       "      <td>0</td>\n",
       "      <td>0</td>\n",
       "      <td>0</td>\n",
       "      <td>3</td>\n",
       "      <td>Working - as a paid employee</td>\n",
       "      <td>Yes</td>\n",
       "      <td>201305.0</td>\n",
       "      <td>Yes</td>\n",
       "      <td>200903.0</td>\n",
       "      <td>More than once a week</td>\n",
       "    </tr>\n",
       "    <tr>\n",
       "      <th>3</th>\n",
       "      <td>26315</td>\n",
       "      <td>unqualified for wave 4</td>\n",
       "      <td>NaN</td>\n",
       "      <td>NaN</td>\n",
       "      <td>NaN</td>\n",
       "      <td>NaN</td>\n",
       "      <td>NaN</td>\n",
       "      <td>NaN</td>\n",
       "      <td>NaN</td>\n",
       "      <td>NaN</td>\n",
       "      <td>...</td>\n",
       "      <td>0</td>\n",
       "      <td>0</td>\n",
       "      <td>0</td>\n",
       "      <td>1</td>\n",
       "      <td>Working - as a paid employee</td>\n",
       "      <td>Yes</td>\n",
       "      <td>201309.0</td>\n",
       "      <td>Yes</td>\n",
       "      <td>200903.0</td>\n",
       "      <td>Never</td>\n",
       "    </tr>\n",
       "    <tr>\n",
       "      <th>4</th>\n",
       "      <td>27355</td>\n",
       "      <td>unqualified for wave 4</td>\n",
       "      <td>NaN</td>\n",
       "      <td>NaN</td>\n",
       "      <td>NaN</td>\n",
       "      <td>NaN</td>\n",
       "      <td>NaN</td>\n",
       "      <td>NaN</td>\n",
       "      <td>NaN</td>\n",
       "      <td>NaN</td>\n",
       "      <td>...</td>\n",
       "      <td>0</td>\n",
       "      <td>0</td>\n",
       "      <td>0</td>\n",
       "      <td>2</td>\n",
       "      <td>Working - self-employed</td>\n",
       "      <td>Yes</td>\n",
       "      <td>201305.0</td>\n",
       "      <td>Yes</td>\n",
       "      <td>200903.0</td>\n",
       "      <td>A few times a year</td>\n",
       "    </tr>\n",
       "  </tbody>\n",
       "</table>\n",
       "<p>5 rows × 62 columns</p>\n",
       "</div>"
      ],
      "text/plain": [
       "   caseid_new           w4_xqualified w4_status w4_complete w4_source  \\\n",
       "0       22526    qualified for wave 4    Active         Yes   On-line   \n",
       "1       23286    qualified for wave 4    Active         Yes   On-line   \n",
       "2       25495  unqualified for wave 4       NaN         NaN       NaN   \n",
       "3       26315  unqualified for wave 4       NaN         NaN       NaN   \n",
       "4       27355  unqualified for wave 4       NaN         NaN       NaN   \n",
       "\n",
       "   w4_duration  w4_HCMST_interview_fin_yrmo w4_xtype  w4_xyear w4_xmonth  ...  \\\n",
       "0          3.0                     201303.0      NaN       NaN       NaN  ...   \n",
       "1          0.0                     201303.0      NaN       NaN       NaN  ...   \n",
       "2          NaN                          NaN      NaN       NaN       NaN  ...   \n",
       "3          NaN                          NaN      NaN       NaN       NaN  ...   \n",
       "4          NaN                          NaN      NaN       NaN       NaN  ...   \n",
       "\n",
       "  pp4_ppt25  pp4_ppt612  pp4_ppt1317 pp4_ppt18ov  \\\n",
       "0         0           0            0           2   \n",
       "1         0           0            0           2   \n",
       "2         0           0            0           3   \n",
       "3         0           0            0           1   \n",
       "4         0           0            0           2   \n",
       "\n",
       "                     pp4_ppwork pp4_ppnet pp4_ppcmdate_yrmo pp4_newer  \\\n",
       "0        Not working - disabled       Yes               NaN       Yes   \n",
       "1  Working - as a paid employee       Yes               NaN       Yes   \n",
       "2  Working - as a paid employee       Yes          201305.0       Yes   \n",
       "3  Working - as a paid employee       Yes          201309.0       Yes   \n",
       "4       Working - self-employed       Yes          201305.0       Yes   \n",
       "\n",
       "  ppa2009_services_yrmo ppa2009_how_often_services  \n",
       "0                   NaN                        NaN  \n",
       "1                   NaN                        NaN  \n",
       "2              200903.0      More than once a week  \n",
       "3              200903.0                      Never  \n",
       "4              200903.0         A few times a year  \n",
       "\n",
       "[5 rows x 62 columns]"
      ]
     },
     "execution_count": 30,
     "metadata": {},
     "output_type": "execute_result"
    }
   ],
   "source": [
    "df_wv4=pandas.read_stata(\"wave_4_supplement_v1_2.dta\")\n",
    "df_wv4.head()"
   ]
  },
  {
   "cell_type": "code",
   "execution_count": 31,
   "metadata": {},
   "outputs": [
    {
     "data": {
      "text/plain": [
       "(4002, 62)"
      ]
     },
     "execution_count": 31,
     "metadata": {},
     "output_type": "execute_result"
    }
   ],
   "source": [
    "df_wv4.shape"
   ]
  },
  {
   "cell_type": "code",
   "execution_count": 32,
   "metadata": {},
   "outputs": [
    {
     "data": {
      "text/plain": [
       "Index(['caseid_new', 'w4_xqualified', 'w4_status', 'w4_complete', 'w4_source',\n",
       "       'w4_duration', 'w4_HCMST_interview_fin_yrmo', 'w4_xtype', 'w4_xyear',\n",
       "       'w4_xmonth', 'w4_xmarry', 'w4_xlast', 'w4_xwave1_month', 'w4_xcivil',\n",
       "       'w4_xss', 'w4_q1', 'w4_q2', 'w4_quality', 'w4_attractive',\n",
       "       'w4_attractive_partner', 'w4_q3', 'w4_q4', 'w4_mbtiming_year',\n",
       "       'w4_mbtiming_month', 'w4_q5', 'w4_q6', 'w4_q7', 'w4_mar_year',\n",
       "       'w4_mar_month', 'w4_civ_year', 'w4_q8_a', 'w4_q8_b', 'w4_q9', 'w4_q10',\n",
       "       'w4_nonmbtiming_year', 'w4_nonmbtiming_month',\n",
       "       'relationship_quality_w4', 'w4_broke_up', 'w234_combo_breakup',\n",
       "       'pp4_ppeduc', 'pp4_ppeducat', 'pp4_ppethm', 'pp4_pphhhead',\n",
       "       'pp4_pphhsize', 'pp4_pphouse', 'pp4_ppincimp', 'pp4_ppmarit',\n",
       "       'pp4_ppmsacat', 'pp4_ppreg4', 'pp4_ppreg9', 'pp4_pprent', 'pp4_ppt01',\n",
       "       'pp4_ppt25', 'pp4_ppt612', 'pp4_ppt1317', 'pp4_ppt18ov', 'pp4_ppwork',\n",
       "       'pp4_ppnet', 'pp4_ppcmdate_yrmo', 'pp4_newer', 'ppa2009_services_yrmo',\n",
       "       'ppa2009_how_often_services'],\n",
       "      dtype='object')"
      ]
     },
     "execution_count": 32,
     "metadata": {},
     "output_type": "execute_result"
    }
   ],
   "source": [
    "df_wv4.columns"
   ]
  },
  {
   "cell_type": "code",
   "execution_count": 38,
   "metadata": {},
   "outputs": [],
   "source": [
    "columns = df_wv4.columns\n",
    "df=pd.DataFrame(columns)\n",
    "df.to_csv(\"wv4_columns.csv\",index=False,header=False)"
   ]
  },
  {
   "cell_type": "code",
   "execution_count": 1,
   "metadata": {},
   "outputs": [
    {
     "ename": "NameError",
     "evalue": "name 'pd' is not defined",
     "output_type": "error",
     "traceback": [
      "\u001b[1;31m---------------------------------------------------------------------------\u001b[0m",
      "\u001b[1;31mNameError\u001b[0m                                 Traceback (most recent call last)",
      "\u001b[1;32m<ipython-input-1-1a72b9a5e271>\u001b[0m in \u001b[0;36m<module>\u001b[1;34m\u001b[0m\n\u001b[0;32m      1\u001b[0m \u001b[1;31m# try joining wave 4 to wave 1-3\u001b[0m\u001b[1;33m\u001b[0m\u001b[1;33m\u001b[0m\u001b[1;33m\u001b[0m\u001b[0m\n\u001b[1;32m----> 2\u001b[1;33m \u001b[0mjoined_1_to_4\u001b[0m\u001b[1;33m=\u001b[0m\u001b[0mpd\u001b[0m\u001b[1;33m.\u001b[0m\u001b[0mmerge\u001b[0m\u001b[1;33m(\u001b[0m\u001b[0mdf_wv1_3\u001b[0m\u001b[1;33m,\u001b[0m\u001b[0mdf_wv4\u001b[0m\u001b[1;33m,\u001b[0m\u001b[0mon\u001b[0m\u001b[1;33m=\u001b[0m\u001b[1;34m\"caseid_new\"\u001b[0m\u001b[1;33m)\u001b[0m\u001b[1;33m\u001b[0m\u001b[1;33m\u001b[0m\u001b[0m\n\u001b[0m",
      "\u001b[1;31mNameError\u001b[0m: name 'pd' is not defined"
     ]
    }
   ],
   "source": [
    "# try joining wave 4 to wave 1-3\n",
    "joined_1_to_4=pd.merge(df_wv1_3,df_wv4,on=\"caseid_new\")"
   ]
  },
  {
   "cell_type": "code",
   "execution_count": 41,
   "metadata": {},
   "outputs": [
    {
     "data": {
      "text/plain": [
       "(4002, 448)"
      ]
     },
     "execution_count": 41,
     "metadata": {},
     "output_type": "execute_result"
    }
   ],
   "source": [
    "joined_1_to_4.shape"
   ]
  },
  {
   "cell_type": "markdown",
   "metadata": {},
   "source": [
    "## Wave 5"
   ]
  },
  {
   "cell_type": "code",
   "execution_count": 43,
   "metadata": {},
   "outputs": [
    {
     "data": {
      "text/html": [
       "<div>\n",
       "<style scoped>\n",
       "    .dataframe tbody tr th:only-of-type {\n",
       "        vertical-align: middle;\n",
       "    }\n",
       "\n",
       "    .dataframe tbody tr th {\n",
       "        vertical-align: top;\n",
       "    }\n",
       "\n",
       "    .dataframe thead th {\n",
       "        text-align: right;\n",
       "    }\n",
       "</style>\n",
       "<table border=\"1\" class=\"dataframe\">\n",
       "  <thead>\n",
       "    <tr style=\"text-align: right;\">\n",
       "      <th></th>\n",
       "      <th>caseid_new</th>\n",
       "      <th>w5_duration</th>\n",
       "      <th>w5_source</th>\n",
       "      <th>w5_complete</th>\n",
       "      <th>w5_status</th>\n",
       "      <th>w5x_qualified</th>\n",
       "      <th>w5x_marry</th>\n",
       "      <th>w5x_last</th>\n",
       "      <th>w5x_year</th>\n",
       "      <th>w5x_civil</th>\n",
       "      <th>...</th>\n",
       "      <th>ppmarit_2012</th>\n",
       "      <th>ppcmarit_2012_yrmo</th>\n",
       "      <th>ppmarit_2011</th>\n",
       "      <th>ppcmarit_2011_yrmo</th>\n",
       "      <th>ppmarit_2010</th>\n",
       "      <th>ppcmarit_2010_yrmo</th>\n",
       "      <th>ppmarit_2009</th>\n",
       "      <th>ppcmarit_2009_yrmo</th>\n",
       "      <th>ppmarit_2007</th>\n",
       "      <th>ppcmarit_2007_yrmo</th>\n",
       "    </tr>\n",
       "  </thead>\n",
       "  <tbody>\n",
       "    <tr>\n",
       "      <th>0</th>\n",
       "      <td>22526</td>\n",
       "      <td>1.0</td>\n",
       "      <td>online</td>\n",
       "      <td>wave 5 completed</td>\n",
       "      <td>Active</td>\n",
       "      <td>qualified for wave 5</td>\n",
       "      <td>unmarried partners</td>\n",
       "      <td>1.0</td>\n",
       "      <td>2013.0</td>\n",
       "      <td>no civil union or DP prior to wave 5</td>\n",
       "      <td>...</td>\n",
       "      <td>Living with partner</td>\n",
       "      <td>201207.0</td>\n",
       "      <td>Living with partner</td>\n",
       "      <td>201107.0</td>\n",
       "      <td>Living with partner</td>\n",
       "      <td>201007.0</td>\n",
       "      <td>Living with partner</td>\n",
       "      <td>200905.0</td>\n",
       "      <td>Living with partner</td>\n",
       "      <td>200711.0</td>\n",
       "    </tr>\n",
       "    <tr>\n",
       "      <th>1</th>\n",
       "      <td>23286</td>\n",
       "      <td>0.0</td>\n",
       "      <td>online</td>\n",
       "      <td>wave 5 completed</td>\n",
       "      <td>Active</td>\n",
       "      <td>qualified for wave 5</td>\n",
       "      <td>married</td>\n",
       "      <td>1.0</td>\n",
       "      <td>2013.0</td>\n",
       "      <td>yes civil union or DP prior to wave 5</td>\n",
       "      <td>...</td>\n",
       "      <td>Living with partner</td>\n",
       "      <td>201208.0</td>\n",
       "      <td>Married</td>\n",
       "      <td>201106.0</td>\n",
       "      <td>Living with partner</td>\n",
       "      <td>201007.0</td>\n",
       "      <td>Married</td>\n",
       "      <td>200904.0</td>\n",
       "      <td>Living with partner</td>\n",
       "      <td>200711.0</td>\n",
       "    </tr>\n",
       "    <tr>\n",
       "      <th>2</th>\n",
       "      <td>25495</td>\n",
       "      <td>NaN</td>\n",
       "      <td>NaN</td>\n",
       "      <td>NaN</td>\n",
       "      <td>NaN</td>\n",
       "      <td>not qualified for wave 5</td>\n",
       "      <td>NaN</td>\n",
       "      <td>NaN</td>\n",
       "      <td>NaN</td>\n",
       "      <td>NaN</td>\n",
       "      <td>...</td>\n",
       "      <td>Never married</td>\n",
       "      <td>201206.0</td>\n",
       "      <td>Never married</td>\n",
       "      <td>201106.0</td>\n",
       "      <td>Never married</td>\n",
       "      <td>201007.0</td>\n",
       "      <td>Never married</td>\n",
       "      <td>200904.0</td>\n",
       "      <td>Never married</td>\n",
       "      <td>200711.0</td>\n",
       "    </tr>\n",
       "    <tr>\n",
       "      <th>3</th>\n",
       "      <td>26315</td>\n",
       "      <td>NaN</td>\n",
       "      <td>NaN</td>\n",
       "      <td>NaN</td>\n",
       "      <td>NaN</td>\n",
       "      <td>not qualified for wave 5</td>\n",
       "      <td>NaN</td>\n",
       "      <td>NaN</td>\n",
       "      <td>NaN</td>\n",
       "      <td>NaN</td>\n",
       "      <td>...</td>\n",
       "      <td>Never married</td>\n",
       "      <td>201206.0</td>\n",
       "      <td>Never married</td>\n",
       "      <td>201106.0</td>\n",
       "      <td>Never married</td>\n",
       "      <td>201007.0</td>\n",
       "      <td>Never married</td>\n",
       "      <td>200905.0</td>\n",
       "      <td>Never married</td>\n",
       "      <td>200710.0</td>\n",
       "    </tr>\n",
       "    <tr>\n",
       "      <th>4</th>\n",
       "      <td>27355</td>\n",
       "      <td>NaN</td>\n",
       "      <td>NaN</td>\n",
       "      <td>NaN</td>\n",
       "      <td>NaN</td>\n",
       "      <td>not qualified for wave 5</td>\n",
       "      <td>NaN</td>\n",
       "      <td>NaN</td>\n",
       "      <td>NaN</td>\n",
       "      <td>NaN</td>\n",
       "      <td>...</td>\n",
       "      <td>Never married</td>\n",
       "      <td>201206.0</td>\n",
       "      <td>Never married</td>\n",
       "      <td>201106.0</td>\n",
       "      <td>Never married</td>\n",
       "      <td>201005.0</td>\n",
       "      <td>Never married</td>\n",
       "      <td>200904.0</td>\n",
       "      <td>Never married</td>\n",
       "      <td>200710.0</td>\n",
       "    </tr>\n",
       "  </tbody>\n",
       "</table>\n",
       "<p>5 rows × 78 columns</p>\n",
       "</div>"
      ],
      "text/plain": [
       "   caseid_new  w5_duration w5_source       w5_complete w5_status  \\\n",
       "0       22526          1.0    online  wave 5 completed    Active   \n",
       "1       23286          0.0    online  wave 5 completed    Active   \n",
       "2       25495          NaN       NaN               NaN       NaN   \n",
       "3       26315          NaN       NaN               NaN       NaN   \n",
       "4       27355          NaN       NaN               NaN       NaN   \n",
       "\n",
       "              w5x_qualified           w5x_marry  w5x_last  w5x_year  \\\n",
       "0      qualified for wave 5  unmarried partners       1.0    2013.0   \n",
       "1      qualified for wave 5             married       1.0    2013.0   \n",
       "2  not qualified for wave 5                 NaN       NaN       NaN   \n",
       "3  not qualified for wave 5                 NaN       NaN       NaN   \n",
       "4  not qualified for wave 5                 NaN       NaN       NaN   \n",
       "\n",
       "                               w5x_civil  ...         ppmarit_2012  \\\n",
       "0   no civil union or DP prior to wave 5  ...  Living with partner   \n",
       "1  yes civil union or DP prior to wave 5  ...  Living with partner   \n",
       "2                                    NaN  ...        Never married   \n",
       "3                                    NaN  ...        Never married   \n",
       "4                                    NaN  ...        Never married   \n",
       "\n",
       "   ppcmarit_2012_yrmo         ppmarit_2011 ppcmarit_2011_yrmo  \\\n",
       "0            201207.0  Living with partner           201107.0   \n",
       "1            201208.0              Married           201106.0   \n",
       "2            201206.0        Never married           201106.0   \n",
       "3            201206.0        Never married           201106.0   \n",
       "4            201206.0        Never married           201106.0   \n",
       "\n",
       "          ppmarit_2010 ppcmarit_2010_yrmo         ppmarit_2009  \\\n",
       "0  Living with partner           201007.0  Living with partner   \n",
       "1  Living with partner           201007.0              Married   \n",
       "2        Never married           201007.0        Never married   \n",
       "3        Never married           201007.0        Never married   \n",
       "4        Never married           201005.0        Never married   \n",
       "\n",
       "  ppcmarit_2009_yrmo         ppmarit_2007 ppcmarit_2007_yrmo  \n",
       "0           200905.0  Living with partner           200711.0  \n",
       "1           200904.0  Living with partner           200711.0  \n",
       "2           200904.0        Never married           200711.0  \n",
       "3           200905.0        Never married           200710.0  \n",
       "4           200904.0        Never married           200710.0  \n",
       "\n",
       "[5 rows x 78 columns]"
      ]
     },
     "execution_count": 43,
     "metadata": {},
     "output_type": "execute_result"
    }
   ],
   "source": [
    "df_wv5=pandas.read_stata(\"HCMST_wave_5_supplement_ver_1.dta\")\n",
    "df_wv5.head()"
   ]
  },
  {
   "cell_type": "code",
   "execution_count": 44,
   "metadata": {},
   "outputs": [
    {
     "data": {
      "text/plain": [
       "(4002, 78)"
      ]
     },
     "execution_count": 44,
     "metadata": {},
     "output_type": "execute_result"
    }
   ],
   "source": [
    "df_wv5.shape"
   ]
  }
 ],
 "metadata": {
  "kernelspec": {
   "display_name": "Python 3",
   "language": "python",
   "name": "python3"
  },
  "language_info": {
   "codemirror_mode": {
    "name": "ipython",
    "version": 3
   },
   "file_extension": ".py",
   "mimetype": "text/x-python",
   "name": "python",
   "nbconvert_exporter": "python",
   "pygments_lexer": "ipython3",
   "version": "3.7.3"
  }
 },
 "nbformat": 4,
 "nbformat_minor": 2
}
