{
 "cells": [
  {
   "cell_type": "code",
   "execution_count": 2,
   "metadata": {},
   "outputs": [],
   "source": [
    "import pandas as pd\n",
    "\n",
    "# Filenames maintained for clarity; they can be renamed once we know the specifics on each \n",
    "HCMST_2017_public_data = pd.read_stata(\"Stata_files/HCMST_2017_public_data_v1.1_stata/HCMST_2017_public_data.dta\")\n",
    "HCMST_ver_3 = pd.read_stata(\"Stata_files/HCMST_ver_3.04_Stata/HCMST_ver_3.04.dta\")\n",
    "wave_4_supplement = pd.read_stata(\"Stata_files/wave_4_supplement_v1_2/wave_4_supplement_v1_2.dta\")\n",
    "HCMST_wave_5 = pd.read_stata(\"Stata_files/HCMST_wave_5_supplement_ver_1/HCMST_wave_5_supplement_ver_1.dta\")\n",
    "HCMST_wave_6 = pd.read_stata(\"Stata_files/HCMST_wave_6_public_v1_stata/HCMST_wave_6_public_v1.dta\")\n"
   ]
  },
  {
   "cell_type": "code",
   "execution_count": 3,
   "metadata": {},
   "outputs": [],
   "source": [
    "# HCMST_2017_public_data.to_csv('CSV_files/HCMST_2017_public_data.csv')\n",
    "# HCMST_ver_3.to_csv('CSV_files/HCMST_ver_3.csv')\n",
    "wave_4_supplement.to_csv('CSV_files/wave_4_supplement.csv')\n",
    "HCMST_wave_5.to_csv('CSV_files/HCMST_wave_5.csv')\n",
    "HCMST_wave_6.to_csv('CSV_files/HCMST_wave_6.csv')\n",
    "\n"
   ]
  },
  {
   "cell_type": "code",
   "execution_count": null,
   "metadata": {},
   "outputs": [],
   "source": []
  }
 ],
 "metadata": {
  "kernelspec": {
   "display_name": "Python 3",
   "language": "python",
   "name": "python3"
  },
  "language_info": {
   "codemirror_mode": {
    "name": "ipython",
    "version": 3
   },
   "file_extension": ".py",
   "mimetype": "text/x-python",
   "name": "python",
   "nbconvert_exporter": "python",
   "pygments_lexer": "ipython3",
   "version": "3.7.3"
  }
 },
 "nbformat": 4,
 "nbformat_minor": 2
}
